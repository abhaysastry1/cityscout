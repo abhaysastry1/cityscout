{
  "nbformat": 4,
  "nbformat_minor": 0,
  "metadata": {
    "colab": {
      "provenance": []
    },
    "kernelspec": {
      "name": "python3",
      "display_name": "Python 3"
    },
    "language_info": {
      "name": "python"
    }
  },
  "cells": [
    {
      "cell_type": "code",
      "execution_count": 4,
      "metadata": {
        "id": "F6qCgHsKDrNj"
      },
      "outputs": [],
      "source": [
        "from pyspark.sql import SparkSession\n",
        "from pyspark.ml.feature import PCA\n",
        "from pyspark.ml.linalg import Vectors"
      ]
    },
    {
      "cell_type": "code",
      "source": [
        "from google.colab import drive\n",
        "drive.mount('/content/drive/')"
      ],
      "metadata": {
        "colab": {
          "base_uri": "https://localhost:8080/"
        },
        "id": "orZtoquNEs64",
        "outputId": "a161fb59-d6be-41d8-b7fd-d8c41dd3844f"
      },
      "execution_count": 5,
      "outputs": [
        {
          "output_type": "stream",
          "name": "stdout",
          "text": [
            "Mounted at /content/drive/\n"
          ]
        }
      ]
    },
    {
      "cell_type": "code",
      "source": [
        "%cd /content/drive/MyDrive"
      ],
      "metadata": {
        "colab": {
          "base_uri": "https://localhost:8080/"
        },
        "id": "vfpSZvXGFdrl",
        "outputId": "f57bef26-1dbc-48d6-e88b-60a7ef78ce54"
      },
      "execution_count": 6,
      "outputs": [
        {
          "output_type": "stream",
          "name": "stdout",
          "text": [
            "/content/drive/MyDrive\n"
          ]
        }
      ]
    },
    {
      "cell_type": "code",
      "source": [
        "spark = SparkSession.builder.appName(\"FBI_Data\").getOrCreate()\n",
        "df = spark.read.csv(\"city_scout_fbi_nibrs_2011_2021.csv\", header=True, inferSchema=True)"
      ],
      "metadata": {
        "id": "8JSmxHjrFgxX"
      },
      "execution_count": 7,
      "outputs": []
    },
    {
      "cell_type": "code",
      "source": [
        "df.show(20, truncate = False)"
      ],
      "metadata": {
        "colab": {
          "base_uri": "https://localhost:8080/"
        },
        "id": "FFwWYje6GPer",
        "outputId": "2a5510ce-6e8c-46e0-d0d1-d371e97b6863"
      },
      "execution_count": 8,
      "outputs": [
        {
          "output_type": "stream",
          "name": "stdout",
          "text": [
            "+---------------+---------+---------+----------------+--------------+----------+--------+----------+-----------+-------+--------+-------------------------+------------+--------------------+----------+----------------------------+----------------------------+\n",
            "|offense_type_id|victim_id|agency_id|city_name       |primary_county|state_abbr|state_id|population|incident_id|age_num|sex_code|race_id                  |ethnicity_id|resident_status_code|offense_id|offense_name                |offense_category_name       |\n",
            "+---------------+---------+---------+----------------+--------------+----------+--------+----------+-----------+-------+--------+-------------------------+------------+--------------------+----------+----------------------------+----------------------------+\n",
            "|45             |62205773 |8714     |Sterling Heights|Macomb        |MI        |26      |132255    |57347297   |10     |M       |White                    |2           |R                   |66872038  |All Other Larceny           |Larceny/Theft Offenses      |\n",
            "|49             |62206339 |14791    |N Lawrence      |Stark         |OH        |39      |8270      |57347791   |74     |F       |White                    |2           |R                   |63734461  |Burglary/Breaking & Entering|Burglary/Breaking & Entering|\n",
            "|47             |62206339 |14791    |N Lawrence      |Stark         |OH        |39      |8270      |57347791   |74     |F       |White                    |2           |R                   |63742381  |Theft From Building         |Larceny/Theft Offenses      |\n",
            "|45             |62206390 |14791    |N Lawrence      |Stark         |OH        |39      |8270      |57347842   |82     |M       |White                    |2           |R                   |63742390  |All Other Larceny           |Larceny/Theft Offenses      |\n",
            "|51             |62206791 |8714     |Sterling Heights|Macomb        |MI        |26      |132255    |57348207   |61     |M       |White                    |2           |R                   |66874050  |Simple Assault              |Assault Offenses            |\n",
            "|49             |62206891 |8714     |Sterling Heights|Macomb        |MI        |26      |132255    |57348303   |33     |F       |White                    |3           |R                   |66870911  |Burglary/Breaking & Entering|Burglary/Breaking & Entering|\n",
            "|27             |62206901 |8714     |Sterling Heights|Macomb        |MI        |26      |132255    |57348313   |28     |M       |Black or African American|3           |R                   |66874285  |Aggravated Assault          |Assault Offenses            |\n",
            "|45             |62207338 |14791    |N Lawrence      |Stark         |OH        |39      |8270      |57348689   |44     |F       |White                    |2           |R                   |63742612  |All Other Larceny           |Larceny/Theft Offenses      |\n",
            "|44             |62207419 |14791    |N Lawrence      |Stark         |OH        |39      |8270      |57348770   |31     |F       |White                    |2           |R                   |63743180  |Intimidation                |Assault Offenses            |\n",
            "|45             |62207598 |6531     |Florence        |Boone         |KY        |21      |32357     |57348911   |45     |M       |White                    |2           |R                   |64586669  |All Other Larceny           |Larceny/Theft Offenses      |\n",
            "|45             |62207661 |6531     |Florence        |Boone         |KY        |21      |32357     |57348962   |19     |F       |White                    |2           |R                   |64585159  |All Other Larceny           |Larceny/Theft Offenses      |\n",
            "|51             |62207977 |8714     |Sterling Heights|Macomb        |MI        |26      |132255    |57349276   |14     |F       |White                    |3           |R                   |66872083  |Simple Assault              |Assault Offenses            |\n",
            "|11             |62208538 |14792    |Massillon       |Stark         |OH        |39      |28492     |57349763   |81     |M       |White                    |2           |R                   |63749258  |Counterfeiting/Forgery      |Counterfeiting/Forgery      |\n",
            "|45             |62208538 |14792    |Massillon       |Stark         |OH        |39      |28492     |57349763   |81     |M       |White                    |2           |R                   |63749257  |All Other Larceny           |Larceny/Theft Offenses      |\n",
            "|47             |62208992 |8714     |Sterling Heights|Macomb        |MI        |26      |132255    |57350181   |51     |M       |White                    |3           |R                   |66882831  |Theft From Building         |Larceny/Theft Offenses      |\n",
            "|47             |62209021 |8714     |Sterling Heights|Macomb        |MI        |26      |132255    |57350205   |55     |F       |White                    |3           |N                   |66870954  |Theft From Building         |Larceny/Theft Offenses      |\n",
            "|45             |62209685 |6531     |Florence        |Boone         |KY        |21      |32357     |57350769   |24     |F       |White                    |2           |R                   |64580216  |All Other Larceny           |Larceny/Theft Offenses      |\n",
            "|51             |62210099 |8714     |Sterling Heights|Macomb        |MI        |26      |132255    |57351165   |77     |F       |White                    |3           |R                   |66867546  |Simple Assault              |Assault Offenses            |\n",
            "|14             |62210668 |14792    |Massillon       |Stark         |OH        |39      |28492     |57351640   |22     |F       |White                    |2           |R                   |63752267  |Theft From Motor Vehicle    |Larceny/Theft Offenses      |\n",
            "|51             |62210698 |14792    |Massillon       |Stark         |OH        |39      |28492     |57351668   |29     |F       |White                    |2           |U                   |63753020  |Simple Assault              |Assault Offenses            |\n",
            "+---------------+---------+---------+----------------+--------------+----------+--------+----------+-----------+-------+--------+-------------------------+------------+--------------------+----------+----------------------------+----------------------------+\n",
            "only showing top 20 rows\n",
            "\n"
          ]
        }
      ]
    },
    {
      "cell_type": "code",
      "source": [
        "from pyspark.sql.functions import col\n",
        "\n",
        "# Get unique offense names\n",
        "df_offense_category = df.groupBy(\"offense_category_name\").count().select(\"offense_category_name\")\n",
        "df_offense_category_pd = df_offense_category.toPandas()\n",
        "\n",
        "offense_category_series = df_offense_category_pd[\"offense_category_name\"]\n",
        "print(offense_category_series)"
      ],
      "metadata": {
        "colab": {
          "base_uri": "https://localhost:8080/"
        },
        "id": "orkeS69DAOzJ",
        "outputId": "59576b68-bd16-46fb-9f73-64d93294a81c"
      },
      "execution_count": 9,
      "outputs": [
        {
          "output_type": "stream",
          "name": "stdout",
          "text": [
            "0                               Fraud Offenses\n",
            "1                     Stolen Property Offenses\n",
            "2                                      Robbery\n",
            "3                                 Embezzlement\n",
            "4                             Assault Offenses\n",
            "5                        Prostitution Offenses\n",
            "6                                      Bribery\n",
            "7     Destruction/Damage/Vandalism of Property\n",
            "8                                        Arson\n",
            "9                 Pornography/Obscene Material\n",
            "10                           Human Trafficking\n",
            "11                         Extortion/Blackmail\n",
            "12                      Counterfeiting/Forgery\n",
            "13                      Drug/Narcotic Offenses\n",
            "14                           Homicide Offenses\n",
            "15                           Gambling Offenses\n",
            "16                              Animal Cruelty\n",
            "17                                Sex Offenses\n",
            "18                      Larceny/Theft Offenses\n",
            "19                Burglary/Breaking & Entering\n",
            "20                        Kidnapping/Abduction\n",
            "21                         Motor Vehicle Theft\n",
            "22                       Weapon Law Violations\n",
            "23                                        None\n",
            "Name: offense_category_name, dtype: object\n"
          ]
        }
      ]
    },
    {
      "cell_type": "code",
      "source": [
        "import numpy as np\n",
        "from sklearn.feature_extraction.text import TfidfVectorizer\n",
        "from sklearn.multioutput import MultiOutputClassifier\n",
        "from sklearn.ensemble import RandomForestClassifier\n",
        "from collections import defaultdict\n",
        "import pandas as pd\n",
        "\n",
        "def create_training_data():\n",
        "    \"\"\"\n",
        "    Create training data with manual classifications.\n",
        "    Each offense must belong to at least one category.\n",
        "    \"\"\"\n",
        "    return [\n",
        "        (\"Human Trafficking\", [\"Children\", \"Women travelling solo\"]),\n",
        "        (\"Sex Offenses\", [\"Children\", \"Women travelling solo\"]),\n",
        "        (\"Kidnapping/Abduction\", [\"Children\", \"Women travelling solo\"]),\n",
        "        (\"Pornography/Obscene Material\", [\"Children\"]),\n",
        "        (\"Fraud Offenses\", [\"Elderly\", \"Tourists\"]),\n",
        "        (\"Extortion/Blackmail\", [\"Elderly\", \"Tourists\"]),\n",
        "        (\"Counterfeiting/Forgery\", [\"Elderly\", \"Tourists\"]),\n",
        "        (\"Assault Offenses\", [\"Women travelling solo\", \"People of Color\"]),\n",
        "        (\"Prostitution Offenses\", [\"Women travelling solo\"]),\n",
        "        (\"Robbery\", [\"Women travelling solo\", \"Elderly\", \"Tourists\"]),\n",
        "        (\"Stolen Property Offenses\", [\"Tourists\"]),\n",
        "        (\"Motor Vehicle Theft\", [\"Tourists\"]),\n",
        "        (\"Burglary/Breaking & Entering\", [\"Tourists\", \"Elderly\"]),\n",
        "        (\"Larceny/Theft Offenses\", [\"Tourists\", \"Elderly\"]),\n",
        "        (\"Destruction/Damage/Vandalism of Property\", [\"People of Color\"]),\n",
        "        (\"Drug/Narcotic Offenses\", [\"People of Color\", \"Tourists\"]),\n",
        "        (\"Homicide Offenses\", [\"People of Color\", \"Women travelling solo\"]),\n",
        "        (\"Gambling Offenses\", [\"Tourists\", \"Elderly\"]),\n",
        "        (\"Weapon Law Violations\", [\"People of Color\"]),\n",
        "        (\"Bribery\", [\"Tourists\", \"Elderly\"]),\n",
        "        (\"Arson\", [\"People of Color\", \"Tourists\"]),\n",
        "        (\"Animal Cruelty\", [\"Children\", \"Elderly\"]),\n",
        "        (\"Embezzlement\", [\"Elderly\", \"Tourists\"])\n",
        "    ]\n",
        "\n",
        "class CategoryOffenseClassifier:\n",
        "    def __init__(self):\n",
        "        self.categories = ['Children', 'Elderly', 'Women travelling solo', 'Tourists', 'People of Color']\n",
        "        self.vectorizer = TfidfVectorizer(analyzer='word', ngram_range=(1, 2), min_df=1)\n",
        "        self.classifier = MultiOutputClassifier(RandomForestClassifier(n_estimators=100, random_state=42))\n",
        "\n",
        "    def fit(self):\n",
        "        training_data = create_training_data()\n",
        "        X = [offense for offense, _ in training_data]\n",
        "        y = np.zeros((len(training_data), len(self.categories)))\n",
        "\n",
        "        for i, (_, cats) in enumerate(training_data):\n",
        "            for cat in cats:\n",
        "                y[i, self.categories.index(cat)] = 1\n",
        "\n",
        "        X_transformed = self.vectorizer.fit_transform(X)\n",
        "        self.classifier.fit(X_transformed, y)\n",
        "\n",
        "    def predict(self, offenses):\n",
        "        X_new = self.vectorizer.transform(offenses)\n",
        "        predictions_proba = [estimator.predict_proba(X_new)[:, 1] for estimator in self.classifier.estimators_]\n",
        "        predictions_proba = np.array(predictions_proba).T\n",
        "\n",
        "        # Create a DataFrame to store all predictions\n",
        "        results = []\n",
        "        for i, offense in enumerate(offenses):\n",
        "            probs = predictions_proba[i]\n",
        "\n",
        "            # Create a row for each offense with binary indicators for each category\n",
        "            row = {'Offense': offense}\n",
        "            assigned_to_any = False\n",
        "\n",
        "            # Assign categories based on probability threshold\n",
        "            for cat_idx, prob in enumerate(probs):\n",
        "                category = self.categories[cat_idx]\n",
        "                is_assigned = prob > 0.3\n",
        "                row[category] = 1 if is_assigned else 0\n",
        "                assigned_to_any = assigned_to_any or is_assigned\n",
        "\n",
        "            # If no category was assigned, assign to highest probability category\n",
        "            if not assigned_to_any:\n",
        "                max_prob_idx = np.argmax(probs)\n",
        "                row[self.categories[max_prob_idx]] = 1\n",
        "\n",
        "            results.append(row)\n",
        "\n",
        "        return pd.DataFrame(results)\n",
        "\n",
        "def create_csv_outputs(offense_list, output_prefix='offense_classifications'):\n",
        "    \"\"\"\n",
        "    Creates two CSV files:\n",
        "    1. Binary matrix showing which offenses belong to which categories\n",
        "    2. Categorized list showing offenses under each category\n",
        "    \"\"\"\n",
        "    classifier = CategoryOffenseClassifier()\n",
        "    classifier.fit()\n",
        "\n",
        "    # Get binary classification matrix\n",
        "    matrix_df = classifier.predict(offense_list)\n",
        "    matrix_df.to_csv(f'{output_prefix}_matrix.csv', index=False)\n",
        "\n",
        "    # Create category-based list\n",
        "    category_lists = defaultdict(list)\n",
        "    for _, row in matrix_df.iterrows():\n",
        "        offense = row['Offense']\n",
        "        for category in classifier.categories:\n",
        "            if row[category] == 1:\n",
        "                category_lists[category].append(offense)\n",
        "\n",
        "    # Convert to long format for category-based CSV\n",
        "    category_based = []\n",
        "    for category in classifier.categories:\n",
        "        for offense in category_lists[category]:\n",
        "            category_based.append({\n",
        "                'Category': category,\n",
        "                'Offense': offense\n",
        "            })\n",
        "\n",
        "    category_df = pd.DataFrame(category_based)\n",
        "    category_df.to_csv(f'{output_prefix}_by_category.csv', index=False)\n",
        "\n",
        "    return matrix_df, category_df\n",
        "\n",
        "# Run the classification and create CSV files\n",
        "matrix_df, category_df = create_csv_outputs(offenses)\n",
        "\n",
        "# Print preview of the results\n",
        "print(\"\\nMatrix Format Preview (First 5 rows):\")\n",
        "print(matrix_df.head())\n",
        "\n",
        "print(\"\\nCategory-Based Format Preview (First 5 rows):\")\n",
        "print(category_df.head())"
      ],
      "metadata": {
        "colab": {
          "base_uri": "https://localhost:8080/"
        },
        "id": "z3cOe9k49EEH",
        "outputId": "c8b2a77b-a3ae-49dc-f3c4-6def3ba851bc"
      },
      "execution_count": 14,
      "outputs": [
        {
          "output_type": "stream",
          "name": "stdout",
          "text": [
            "\n",
            "Matrix Format Preview (First 5 rows):\n",
            "                    Offense  Children  Elderly  Women travelling solo  \\\n",
            "0            Fraud Offenses         0        1                      0   \n",
            "1  Stolen Property Offenses         0        0                      0   \n",
            "2                   Robbery         0        1                      1   \n",
            "3              Embezzlement         0        1                      0   \n",
            "4          Assault Offenses         0        0                      1   \n",
            "\n",
            "   Tourists  People of Color  \n",
            "0         1                0  \n",
            "1         1                0  \n",
            "2         1                0  \n",
            "3         1                0  \n",
            "4         0                1  \n",
            "\n",
            "Category-Based Format Preview (First 5 rows):\n",
            "   Category                       Offense\n",
            "0  Children  Pornography/Obscene Material\n",
            "1  Children             Human Trafficking\n",
            "2  Children                Animal Cruelty\n",
            "3  Children                  Sex Offenses\n",
            "4  Children          Kidnapping/Abduction\n"
          ]
        }
      ]
    }
  ]
}